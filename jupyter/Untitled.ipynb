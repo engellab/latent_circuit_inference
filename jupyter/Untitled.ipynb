{
 "cells": [
  {
   "cell_type": "code",
   "execution_count": 1,
   "id": "4ad1d0e8",
   "metadata": {},
   "outputs": [],
   "source": [
    "\n",
    "\n",
    "# Get the current datetime object\n",
    "now = datetime.datetime.now()"
   ]
  },
  {
   "cell_type": "code",
   "execution_count": 2,
   "id": "b13bc9d2",
   "metadata": {},
   "outputs": [
    {
     "data": {
      "text/plain": [
       "datetime.datetime(2023, 10, 13, 15, 55, 43, 829964)"
      ]
     },
     "execution_count": 2,
     "metadata": {},
     "output_type": "execute_result"
    }
   ],
   "source": [
    "now"
   ]
  },
  {
   "cell_type": "code",
   "execution_count": 4,
   "id": "a5a91fa4",
   "metadata": {},
   "outputs": [
    {
     "name": "stdout",
     "output_type": "stream",
     "text": [
      "2023-10-13\n"
     ]
    }
   ],
   "source": [
    "\n",
    "import datetimenow = datetime.datetime.now()\n",
    "year = now.year\n",
    "month = now.month\n",
    "day = now.day\n",
    "print(f\"{year}-{month}-{day}\")"
   ]
  },
  {
   "cell_type": "markdown",
   "id": "c74e6ba1",
   "metadata": {},
   "source": [
    "# type a bunch of things"
   ]
  },
  {
   "cell_type": "markdown",
   "id": "7cadaab6",
   "metadata": {},
   "source": [
    "**put some annotations**"
   ]
  },
  {
   "cell_type": "code",
   "execution_count": null,
   "id": "cbe15f6c",
   "metadata": {},
   "outputs": [],
   "source": []
  }
 ],
 "metadata": {
  "kernelspec": {
   "display_name": "Python 3 (ipykernel)",
   "language": "python",
   "name": "python3"
  },
  "language_info": {
   "codemirror_mode": {
    "name": "ipython",
    "version": 3
   },
   "file_extension": ".py",
   "mimetype": "text/x-python",
   "name": "python",
   "nbconvert_exporter": "python",
   "pygments_lexer": "ipython3",
   "version": "3.10.8"
  }
 },
 "nbformat": 4,
 "nbformat_minor": 5
}
