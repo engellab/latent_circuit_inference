{
 "cells": [
  {
   "cell_type": "code",
   "execution_count": 40,
   "id": "10591493",
   "metadata": {},
   "outputs": [],
   "source": [
    "import numpy as np\n",
    "from copy import deepcopy\n",
    "from matplotlib import pyplot as plt"
   ]
  },
  {
   "cell_type": "code",
   "execution_count": 60,
   "id": "52b92e14",
   "metadata": {},
   "outputs": [],
   "source": [
    "Q_target = np.zeros((10, 2))\n",
    "Q_target[0, 0] = 1\n",
    "Q_target[9, 1] = 1"
   ]
  },
  {
   "cell_type": "code",
   "execution_count": 61,
   "id": "b613642f",
   "metadata": {},
   "outputs": [
    {
     "data": {
      "image/png": "[encoded data removed]",
      "text/plain": [
       "<Figure size 640x480 with 1 Axes>"
      ]
     },
     "metadata": {},
     "output_type": "display_data"
    }
   ],
   "source": [
    "plt.imshow(Q_target.T, cmap='coolwarm', vmin = 0, vmax=1)\n",
    "plt.show()"
   ]
  },
  {
   "cell_type": "code",
   "execution_count": 62,
   "id": "1f243426",
   "metadata": {},
   "outputs": [],
   "source": [
    "def objective(Q):\n",
    "    return np.sum((Q-Q_target)**2)\n",
    "\n",
    "def objective_grad(Q):\n",
    "    return 2 * (Q - Q_target)"
   ]
  },
  {
   "cell_type": "code",
   "execution_count": 111,
   "id": "d0888503",
   "metadata": {},
   "outputs": [
    {
     "name": "stdout",
     "output_type": "stream",
     "text": [
      "4.0\n"
     ]
    },
    {
     "data": {
      "text/plain": [
       "0.0"
      ]
     },
     "execution_count": 111,
     "metadata": {},
     "output_type": "execute_result"
    }
   ],
   "source": [
    "Q = np.zeros((10, 2))\n",
    "Q[9, 0] = 1\n",
    "Q[0, 1] = 1\n",
    "print(objective(Q))\n",
    "\n",
    "lr = 0.25\n",
    "S = np.zeros((U.shape[1], Vh.shape[0]))\n",
    "d = min(U.shape[1], Vh.shape[0])\n",
    "S[:d, :d] = np.eye(d)\n",
    "for i in range(10000):\n",
    "    M = deepcopy(Q - lr * objective_grad(Q))\n",
    "    U, s, Vh = np.linalg.svd(M)\n",
    "    Q = deepcopy(U @ S @ Vh)\n",
    "objective(Q)"
   ]
  },
  {
   "cell_type": "code",
   "execution_count": 110,
   "id": "9a05d675",
   "metadata": {},
   "outputs": [
    {
     "data": {
      "text/plain": [
       "array([[-1.79380389e-16,  1.00000000e+00],\n",
       "       [ 0.00000000e+00,  0.00000000e+00],\n",
       "       [ 0.00000000e+00,  0.00000000e+00],\n",
       "       [ 0.00000000e+00,  0.00000000e+00],\n",
       "       [ 0.00000000e+00,  0.00000000e+00],\n",
       "       [ 0.00000000e+00,  0.00000000e+00],\n",
       "       [ 0.00000000e+00,  0.00000000e+00],\n",
       "       [ 0.00000000e+00,  0.00000000e+00],\n",
       "       [ 0.00000000e+00,  0.00000000e+00],\n",
       "       [ 1.00000000e+00,  1.21168839e-16]])"
      ]
     },
     "execution_count": 110,
     "metadata": {},
     "output_type": "execute_result"
    }
   ],
   "source": [
    "Q"
   ]
  },
  {
   "cell_type": "code",
   "execution_count": 158,
   "id": "818cfa95",
   "metadata": {},
   "outputs": [
    {
     "name": "stdout",
     "output_type": "stream",
     "text": [
      "[-0.83213702  1.06743037  1.39706937  0.65018417 -0.68349797 -0.96113315]\n"
     ]
    }
   ],
   "source": [
    "# import autograd.numpy as np\n",
    "# from autograd import jacobian\n",
    "\n",
    "\n",
    "def parametrize_orthogonal_matrix(x):\n",
    "    \"\"\"\n",
    "    Takes a vector of size n*(n-1)/2 as input and returns an n x n orthogonal matrix.\n",
    "    \"\"\"\n",
    "    n = int(0.5 + np.sqrt(0.5 + 2 * len(x)))\n",
    "    A = np.zeros((n, n))\n",
    "    k = 0\n",
    "    for i in range(n):\n",
    "        for j in range(i):\n",
    "            A[i, j] = x[k]\n",
    "            A[j, i] = -x[k]\n",
    "            k += 1\n",
    "    diag = np.sqrt(np.sum(A ** 2, axis=1))\n",
    "    Q = A / diag[:, np.newaxis]\n",
    "    return Q\n",
    "\n",
    "# Define a test vector of parameters\n",
    "x_test = np.random.randn(6)\n",
    "print(x_test)\n",
    "Q = parametrize_orthogonal_matrix(x_test)\n",
    "# dQdx = jacobian(parametrize_orthogonal_matrix)(x_test)\n",
    "\n",
    "# print(\"Orthogonal matrix:\\n\", Q)\n",
    "# print(\"Derivative with respect to parameters:\\n\", dQdx)\n"
   ]
  },
  {
   "cell_type": "code",
   "execution_count": 159,
   "id": "f238f497",
   "metadata": {},
   "outputs": [
    {
     "data": {
      "text/plain": [
       "array([[ 1.        ,  0.39525778,  0.17869586,  0.22608426],\n",
       "       [ 0.39525778,  1.        , -0.06544606,  0.337494  ],\n",
       "       [ 0.17869586, -0.06544606,  1.        , -0.09667123],\n",
       "       [ 0.22608426,  0.337494  , -0.09667123,  1.        ]])"
      ]
     },
     "execution_count": 159,
     "metadata": {},
     "output_type": "execute_result"
    }
   ],
   "source": [
    "Q @ Q.T"
   ]
  },
  {
   "cell_type": "code",
   "execution_count": null,
   "id": "4aabacae",
   "metadata": {},
   "outputs": [],
   "source": [
    "# import autograd.numpy as np\n",
    "# from autograd import jacobian\n",
    "\n",
    "def parametrize_stiefel(n, k):\n",
    "    \"\"\"\n",
    "    Takes n and k as input and returns an n x k tall skinny orthogonal matrix.\n",
    "    \"\"\"\n",
    "    if k > n:\n",
    "        raise ValueError(\"k must be less than or equal to n\")\n",
    "    A = np.random.randn(n, k)\n",
    "    Q, R = np.linalg.qr(A)\n",
    "    diag = np.sign(np.diag(R))\n",
    "    Q *= diag\n",
    "    return Q\n",
    "\n",
    "def parametrize_tall_skinny_matrix(n, k, x):\n",
    "    \"\"\"\n",
    "    Takes n, k, and a vector of size k*(n-k) as input and returns an n x k tall skinny matrix.\n",
    "    \"\"\"\n",
    "    Q = parametrize_stiefel(n, k)\n",
    "    C = np.zeros((n, k))\n",
    "    k_idx = 0\n",
    "    for i in range(k):\n",
    "        C[:, i] = Q[:, i] * np.sqrt(1 - np.sum(C[:, :i] ** 2, axis=1))\n",
    "        for j in range(i + 1, k):\n",
    "            C[:, i] += Q[:, j] * x[k_idx]\n",
    "            C[:, j] -= Q[:, i] * x[k_idx]\n",
    "            k_idx += 1\n",
    "    return C\n",
    "\n",
    "# Define a test vector of parameters\n",
    "n = 5\n",
    "k = 3\n",
    "x_test = np.array([0.1, 0.2, -0.3, 0.4, -0.5, 0.6])\n",
    "\n",
    "# Compute the tall skinny matrix and its derivative with respect to the parameters\n",
    "M = parametrize_tall_skinny_matrix(n, k, x_test)\n",
    "dMdx = jacobian(parametrize_tall_skinny_matrix)(n, k, x_test)\n",
    "\n",
    "print(\"Tall skinny matrix:\\n\", M)\n",
    "print(\"Derivative with respect to parameters:\\n\", dMdx)\n"
   ]
  },
  {
   "cell_type": "code",
   "execution_count": null,
   "id": "dc222a03",
   "metadata": {},
   "outputs": [],
   "source": []
  }
 ],
 "metadata": {
  "kernelspec": {
   "display_name": "Python 3 (ipykernel)",
   "language": "python",
   "name": "python3"
  },
  "language_info": {
   "codemirror_mode": {
    "name": "ipython",
    "version": 3
   },
   "file_extension": ".py",
   "mimetype": "text/x-python",
   "name": "python",
   "nbconvert_exporter": "python",
   "pygments_lexer": "ipython3",
   "version": "3.10.8"
  }
 },
 "nbformat": 4,
 "nbformat_minor": 5
}
