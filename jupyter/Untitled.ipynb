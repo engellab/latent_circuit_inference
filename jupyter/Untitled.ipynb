{
 "cells": [
  {
   "cell_type": "code",
   "execution_count": 40,
   "id": "b1f86dea",
   "metadata": {},
   "outputs": [],
   "source": [
    "import numpy as np\n",
    "from copy import deepcopy\n",
    "from matplotlib import pyplot as plt"
   ]
  },
  {
   "cell_type": "code",
   "execution_count": 60,
   "id": "b8048b19",
   "metadata": {},
   "outputs": [],
   "source": [
    "Q_target = np.zeros((10, 2))\n",
    "Q_target[0, 0] = 1\n",
    "Q_target[9, 1] = 1"
   ]
  },
  {
   "cell_type": "code",
   "execution_count": 61,
   "id": "b2393c1d",
   "metadata": {},
   "outputs": [
    {
     "data": {
      "image/png": "[encoded data removed]",
      "text/plain": [
       "<Figure size 640x480 with 1 Axes>"
      ]
     },
     "metadata": {},
     "output_type": "display_data"
    }
   ],
   "source": [
    "plt.imshow(Q_target.T, cmap='coolwarm', vmin = 0, vmax=1)\n",
    "plt.show()"
   ]
  },
  {
   "cell_type": "code",
   "execution_count": 62,
   "id": "7b0a637b",
   "metadata": {},
   "outputs": [],
   "source": [
    "def objective(Q):\n",
    "    return np.sum((Q-Q_target)**2)\n",
    "\n",
    "def objective_grad(Q):\n",
    "    return 2 * (Q - Q_target)"
   ]
  },
  {
   "cell_type": "code",
   "execution_count": 111,
   "id": "affba7d1",
   "metadata": {},
   "outputs": [
    {
     "name": "stdout",
     "output_type": "stream",
     "text": [
      "4.0\n"
     ]
    },
    {
     "data": {
      "text/plain": [
       "0.0"
      ]
     },
     "execution_count": 111,
     "metadata": {},
     "output_type": "execute_result"
    }
   ],
   "source": [
    "Q = np.zeros((10, 2))\n",
    "Q[9, 0] = 1\n",
    "Q[0, 1] = 1\n",
    "print(objective(Q))\n",
    "\n",
    "lr = 0.25\n",
    "S = np.zeros((U.shape[1], Vh.shape[0]))\n",
    "d = min(U.shape[1], Vh.shape[0])\n",
    "S[:d, :d] = np.eye(d)\n",
    "for i in range(10000):\n",
    "    M = deepcopy(Q - lr * objective_grad(Q))\n",
    "    U, s, Vh = np.linalg.svd(M)\n",
    "    Q = deepcopy(U @ S @ Vh)\n",
    "objective(Q)"
   ]
  },
  {
   "cell_type": "code",
   "execution_count": 110,
   "id": "763e2652",
   "metadata": {},
   "outputs": [
    {
     "data": {
      "text/plain": [
       "array([[-1.79380389e-16,  1.00000000e+00],\n",
       "       [ 0.00000000e+00,  0.00000000e+00],\n",
       "       [ 0.00000000e+00,  0.00000000e+00],\n",
       "       [ 0.00000000e+00,  0.00000000e+00],\n",
       "       [ 0.00000000e+00,  0.00000000e+00],\n",
       "       [ 0.00000000e+00,  0.00000000e+00],\n",
       "       [ 0.00000000e+00,  0.00000000e+00],\n",
       "       [ 0.00000000e+00,  0.00000000e+00],\n",
       "       [ 0.00000000e+00,  0.00000000e+00],\n",
       "       [ 1.00000000e+00,  1.21168839e-16]])"
      ]
     },
     "execution_count": 110,
     "metadata": {},
     "output_type": "execute_result"
    }
   ],
   "source": [
    "Q"
   ]
  },
  {
   "cell_type": "code",
   "execution_count": 158,
   "id": "0eb79ac9",
   "metadata": {},
   "outputs": [
    {
     "name": "stdout",
     "output_type": "stream",
     "text": [
      "[-0.83213702  1.06743037  1.39706937  0.65018417 -0.68349797 -0.96113315]\n"
     ]
    }
   ],
   "source": [
    "# import autograd.numpy as np\n",
    "# from autograd import jacobian\n",
    "\n",
    "\n",
    "def parametrize_orthogonal_matrix(x):\n",
    "    \"\"\"\n",
    "    Takes a vector of size n*(n-1)/2 as input and returns an n x n orthogonal matrix.\n",
    "    \"\"\"\n",
    "    n = int(0.5 + np.sqrt(0.5 + 2 * len(x)))\n",
    "    A = np.zeros((n, n))\n",
    "    k = 0\n",
    "    for i in range(n):\n",
    "        for j in range(i):\n",
    "            A[i, j] = x[k]\n",
    "            A[j, i] = -x[k]\n",
    "            k += 1\n",
    "    diag = np.sqrt(np.sum(A ** 2, axis=1))\n",
    "    Q = A / diag[:, np.newaxis]\n",
    "    return Q\n",
    "\n",
    "# Define a test vector of parameters\n",
    "x_test = np.random.randn(6)\n",
    "print(x_test)\n",
    "Q = parametrize_orthogonal_matrix(x_test)\n",
    "# dQdx = jacobian(parametrize_orthogonal_matrix)(x_test)\n",
    "\n",
    "# print(\"Orthogonal matrix:\\n\", Q)\n",
    "# print(\"Derivative with respect to parameters:\\n\", dQdx)\n"
   ]
  },
  {
   "cell_type": "code",
   "execution_count": 159,
   "id": "65e47ace",
   "metadata": {},
   "outputs": [
    {
     "data": {
      "text/plain": [
       "array([[ 1.        ,  0.39525778,  0.17869586,  0.22608426],\n",
       "       [ 0.39525778,  1.        , -0.06544606,  0.337494  ],\n",
       "       [ 0.17869586, -0.06544606,  1.        , -0.09667123],\n",
       "       [ 0.22608426,  0.337494  , -0.09667123,  1.        ]])"
      ]
     },
     "execution_count": 159,
     "metadata": {},
     "output_type": "execute_result"
    }
   ],
   "source": [
    "Q @ Q.T"
   ]
  },
  {
   "cell_type": "code",
   "execution_count": 182,
   "id": "9cf6bc49",
   "metadata": {},
   "outputs": [
    {
     "ename": "ValueError",
     "evalue": "could not broadcast input array from shape (2,) into shape (3,)",
     "output_type": "error",
     "traceback": [
      "\u001b[0;31m---------------------------------------------------------------------------\u001b[0m",
      "\u001b[0;31mValueError\u001b[0m                                Traceback (most recent call last)",
      "Cell \u001b[0;32mIn[182], line 32\u001b[0m\n\u001b[1;32m     30\u001b[0m k \u001b[38;5;241m=\u001b[39m \u001b[38;5;241m3\u001b[39m\n\u001b[1;32m     31\u001b[0m x_test \u001b[38;5;241m=\u001b[39m np\u001b[38;5;241m.\u001b[39marray([\u001b[38;5;241m0.1\u001b[39m, \u001b[38;5;241m0.2\u001b[39m, \u001b[38;5;241m-\u001b[39m\u001b[38;5;241m0.3\u001b[39m, \u001b[38;5;241m0.4\u001b[39m, \u001b[38;5;241m-\u001b[39m\u001b[38;5;241m0.5\u001b[39m, \u001b[38;5;241m0.6\u001b[39m])\n\u001b[0;32m---> 32\u001b[0m M \u001b[38;5;241m=\u001b[39m \u001b[43mparametrize_tall_skinny_matrix\u001b[49m\u001b[43m(\u001b[49m\u001b[43mn\u001b[49m\u001b[43m,\u001b[49m\u001b[43m \u001b[49m\u001b[43mk\u001b[49m\u001b[43m,\u001b[49m\u001b[43m \u001b[49m\u001b[43mx_test\u001b[49m\u001b[43m)\u001b[49m\n",
      "Cell \u001b[0;32mIn[182], line 20\u001b[0m, in \u001b[0;36mparametrize_tall_skinny_matrix\u001b[0;34m(n, k, x)\u001b[0m\n\u001b[1;32m     18\u001b[0m v[\u001b[38;5;241m0\u001b[39m] \u001b[38;5;241m=\u001b[39m \u001b[38;5;241m1\u001b[39m\n\u001b[1;32m     19\u001b[0m \u001b[38;5;28;01mif\u001b[39;00m i \u001b[38;5;241m<\u001b[39m k \u001b[38;5;241m-\u001b[39m \u001b[38;5;241m1\u001b[39m:\n\u001b[0;32m---> 20\u001b[0m     v[\u001b[38;5;241m1\u001b[39m:] \u001b[38;5;241m=\u001b[39m x[k_idx:k_idx \u001b[38;5;241m+\u001b[39m n \u001b[38;5;241m-\u001b[39m i\u001b[38;5;241m-\u001b[39m\u001b[38;5;241m1\u001b[39m]\n\u001b[1;32m     21\u001b[0m     k_idx \u001b[38;5;241m+\u001b[39m\u001b[38;5;241m=\u001b[39m n \u001b[38;5;241m-\u001b[39m i \u001b[38;5;241m-\u001b[39m \u001b[38;5;241m1\u001b[39m\n\u001b[1;32m     22\u001b[0m H \u001b[38;5;241m=\u001b[39m np\u001b[38;5;241m.\u001b[39meye(n)\n",
      "\u001b[0;31mValueError\u001b[0m: could not broadcast input array from shape (2,) into shape (3,)"
     ]
    }
   ],
   "source": [
    "def householder_reflector(v):\n",
    "    \"\"\"\n",
    "    Computes the Householder reflector matrix for a given vector v.\n",
    "    \"\"\"\n",
    "    u = v / np.linalg.norm(v)\n",
    "    H = np.eye(len(v)) - 2 * np.outer(u, u)\n",
    "    return H\n",
    "\n",
    "def parametrize_tall_skinny_matrix(n, k, x):\n",
    "    \"\"\"\n",
    "    Takes n, k, and a vector of size k*(n-k) as input and returns a unique n x k tall skinny orthogonal matrix.\n",
    "    \"\"\"\n",
    "    Q = np.eye(n)\n",
    "    C = np.zeros((n, k))\n",
    "    k_idx = 0\n",
    "    for i in range(k):\n",
    "        v = np.zeros(n - i)\n",
    "        v[0] = 1\n",
    "        if i < k - 1:\n",
    "            v[1:] = x[k_idx:k_idx + n - i-1]\n",
    "            k_idx += n - i - 1\n",
    "        H = np.eye(n)\n",
    "        H[i:, i:] = householder_reflector(v)\n",
    "        Q = Q @ H\n",
    "        C[:, i] = Q[:, i]\n",
    "    return C\n",
    "\n",
    "# Define a test vector of parameters\n",
    "n = 5\n",
    "k = 3\n",
    "x_test = np.array([0.1, 0.2, -0.3, 0.4, -0.5, 0.6])\n",
    "M = parametrize_tall_skinny_matrix(n, k, x_test)"
   ]
  },
  {
   "cell_type": "code",
   "execution_count": 175,
   "id": "c785a437",
   "metadata": {},
   "outputs": [
    {
     "data": {
      "text/plain": [
       "array([[-0.69794413,  0.46329322,  0.49062049],\n",
       "       [ 0.22772951, -0.26697373,  0.75644996],\n",
       "       [-0.36265694, -0.1224063 , -0.0263829 ],\n",
       "       [ 0.56758523,  0.67341309,  0.22756053],\n",
       "       [ 0.08567501, -0.49559654,  0.36687212]])"
      ]
     },
     "execution_count": 175,
     "metadata": {},
     "output_type": "execute_result"
    }
   ],
   "source": [
    "M"
   ]
  },
  {
   "cell_type": "code",
   "execution_count": 1,
   "id": "67e614c6",
   "metadata": {},
   "outputs": [],
   "source": [
    "import os"
   ]
  },
  {
   "cell_type": "code",
   "execution_count": 10,
   "id": "6129b38a",
   "metadata": {},
   "outputs": [],
   "source": [
    "folders_all = os.listdir(os.path.join(\"../\", \"../\", \"rnn_coach\", \"data\", \"trained_RNNs\", \"CDDM\"))\n",
    "folders_filtered = []\n",
    "for folder in folders_all:\n",
    "    if \"N=100;lmbdr=0.0;lmbdo=0.3\" in folder:\n",
    "        folders_filtered.append(folder)"
   ]
  },
  {
   "cell_type": "code",
   "execution_count": 13,
   "id": "27f0e56b",
   "metadata": {},
   "outputs": [
    {
     "data": {
      "text/plain": [
       "['CDDM_relu;N=100;lmbdr=0.0;lmbdo=0.3_0.0064612_20230403-160226',\n",
       " 'CDDM_relu;N=100;lmbdr=0.0;lmbdo=0.3_0.0070679_20230403-201401',\n",
       " 'CDDM_relu;N=100;lmbdr=0.0;lmbdo=0.3_0.0068963_20230403-202147',\n",
       " 'CDDM_relu;N=100;lmbdr=0.0;lmbdo=0.3_0.0072453_20230403-201333',\n",
       " 'CDDM_relu;N=100;lmbdr=0.0;lmbdo=0.3_0.0068146_20230403-175313',\n",
       " 'CDDM_relu;N=100;lmbdr=0.0;lmbdo=0.3_0.0068341_20230403-201853',\n",
       " 'CDDM_relu;N=100;lmbdr=0.0;lmbdo=0.3_0.0066462_20230403-215733',\n",
       " 'CDDM_relu;N=100;lmbdr=0.0;lmbdo=0.3_0.0066983_20230403-220143',\n",
       " 'CDDM_relu;N=100;lmbdr=0.0;lmbdo=0.3_0.0069985_20230403-220506',\n",
       " 'CDDM_relu;N=100;lmbdr=0.0;lmbdo=0.3_0.0066581_20230403-202327',\n",
       " 'CDDM_relu;N=100;lmbdr=0.0;lmbdo=0.3_0.0068383_20230403-160527',\n",
       " 'CDDM_relu;N=100;lmbdr=0.0;lmbdo=0.3_0.008884_20230403-215042',\n",
       " 'CDDM_relu;N=100;lmbdr=0.0;lmbdo=0.3_0.0067739_20230403-161144',\n",
       " 'CDDM_relu;N=100;lmbdr=0.0;lmbdo=0.3_0.0070495_20230403-161145',\n",
       " 'CDDM_relu;N=100;lmbdr=0.0;lmbdo=0.3_0.0066119_20230403-160411',\n",
       " 'CDDM_relu;N=100;lmbdr=0.0;lmbdo=0.3_0.0065229_20230403-160226',\n",
       " 'CDDM_relu;N=100;lmbdr=0.0;lmbdo=0.3_0.0069855_20230403-175047',\n",
       " 'CDDM_relu;N=100;lmbdr=0.0;lmbdo=0.3_0.0070615_20230403-202415',\n",
       " 'CDDM_relu;N=100;lmbdr=0.0;lmbdo=0.3_0.0073224_20230403-173740',\n",
       " 'CDDM_relu;N=100;lmbdr=0.0;lmbdo=0.3_0.0070738_20230403-220106',\n",
       " 'CDDM_relu;N=100;lmbdr=0.0;lmbdo=0.3_0.0075082_20230403-220542',\n",
       " 'CDDM_relu;N=100;lmbdr=0.0;lmbdo=0.3_0.0070526_20230403-175047',\n",
       " 'CDDM_relu;N=100;lmbdr=0.0;lmbdo=0.3_0.0070948_20230403-161105',\n",
       " 'CDDM_relu;N=100;lmbdr=0.0;lmbdo=0.3_0.0068477_20230403-160143',\n",
       " 'CDDM_relu;N=100;lmbdr=0.0;lmbdo=0.3_0.0069759_20230403-160528',\n",
       " 'CDDM_relu;N=100;lmbdr=0.0;lmbdo=0.3_0.0069969_20230403-220035',\n",
       " 'CDDM_relu;N=100;lmbdr=0.0;lmbdo=0.3_0.0065435_20230403-175405',\n",
       " 'CDDM_relu;N=100;lmbdr=0.0;lmbdo=0.3_0.0073767_20230403-220506',\n",
       " 'CDDM_relu;N=100;lmbdr=0.0;lmbdo=0.3_0.0070801_20230403-220800',\n",
       " 'CDDM_relu;N=100;lmbdr=0.0;lmbdo=0.3_0.0069802_20230403-202226',\n",
       " 'CDDM_relu;N=100;lmbdr=0.0;lmbdo=0.3_0.0066214_20230403-201735',\n",
       " 'CDDM_relu;N=100;lmbdr=0.0;lmbdo=0.3_0.007279_20230403-201333',\n",
       " 'CDDM_relu;N=100;lmbdr=0.0;lmbdo=0.3_0.0065982_20230403-161105',\n",
       " 'CDDM_relu;N=100;lmbdr=0.0;lmbdo=0.3_0.0066949_20230403-202118']"
      ]
     },
     "execution_count": 13,
     "metadata": {},
     "output_type": "execute_result"
    }
   ],
   "source": [
    "folders_filtered"
   ]
  },
  {
   "cell_type": "code",
   "execution_count": null,
   "id": "4ad1d0e8",
   "metadata": {},
   "outputs": [],
   "source": []
  }
 ],
 "metadata": {
  "kernelspec": {
   "display_name": "Python 3 (ipykernel)",
   "language": "python",
   "name": "python3"
  },
  "language_info": {
   "codemirror_mode": {
    "name": "ipython",
    "version": 3
   },
   "file_extension": ".py",
   "mimetype": "text/x-python",
   "name": "python",
   "nbconvert_exporter": "python",
   "pygments_lexer": "ipython3",
   "version": "3.10.8"
  }
 },
 "nbformat": 4,
 "nbformat_minor": 5
}
