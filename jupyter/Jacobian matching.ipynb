{
 "cells": [
  {
   "cell_type": "code",
   "execution_count": 70,
   "id": "fc5c1994",
   "metadata": {},
   "outputs": [],
   "source": [
    "import sys\n",
    "sys.path.append(\"../../\")\n",
    "import numpy as np\n",
    "from matplotlib import pyplot as plt\n",
    "import json\n",
    "import pickle\n",
    "import os\n",
    "import torch\n",
    "from rnn_coach.src.RNN_torch import *\n",
    "from rnn_coach.src.DynamicSystemAnalyzer import *\n",
    "from rnn_coach.src.RNN_numpy import *\n",
    "from rnn_coach.src.Task import *\n",
    "from rnn_coach.src.DataSaver import *\n",
    "from latent_circuit_inference.src.LatentCircuit import *\n",
    "from latent_circuit_inference.src.LatentCircuitFitter import *\n",
    "from latent_circuit_inference.src.LCAnalyzer import *\n",
    "from latent_circuit_inference.src.utils import *\n",
    "from latent_circuit_inference.src.circuit_vizualization import *\n",
    "from copy import deepcopy\n",
    "from sklearn.decomposition import IncrementalPCA as iPCA"
   ]
  },
  {
   "cell_type": "code",
   "execution_count": 71,
   "id": "de23f6e1",
   "metadata": {},
   "outputs": [],
   "source": [
    "#given the folder, open up the files:\n",
    "RNN_folder = \"20230207-08111997\"\n",
    "RNN_folder_full_path = os.path.join(\"../\", \"../\", \"rnn_coach\", \"data\", \"trained_RNNs\", \"CDDM\", RNN_folder)\n",
    "mse_score_RNN = os.listdir(RNN_folder_full_path)[0].split(\"_\")[0]\n",
    "rnn_config = json.load(open(os.path.join(RNN_folder_full_path, f\"{mse_score_RNN}_config.json\"), \"rb+\"))\n",
    "try:\n",
    "    rnn_data = pickle.load(open(os.path.join(RNN_folder_full_path, f\"{mse_score_RNN}_params_CDDM.pkl\"), \"rb+\"))\n",
    "except:\n",
    "    rnn_data = pickle.load(open(os.path.join(RNN_folder_full_path, f\"params_CDDM_{mse_score_RNN}.pkl\"), \"rb+\"))\n",
    "LCI_config_file = json.load(open(os.path.join(\"../\", \"data\", \"configs\", f\"LCI_config.json\"), mode=\"r\", encoding='utf-8'))\n",
    "task_data = rnn_config[\"task_params\"]"
   ]
  },
  {
   "cell_type": "code",
   "execution_count": 72,
   "id": "8755fa75",
   "metadata": {},
   "outputs": [
    {
     "name": "stdout",
     "output_type": "stream",
     "text": [
      "seed: 376628\n"
     ]
    }
   ],
   "source": [
    "# defining RNN:\n",
    "activation_name = rnn_config[\"activation\"]\n",
    "RNN_N = rnn_config[\"N\"]\n",
    "if activation_name == 'relu':\n",
    "    activation_RNN = lambda x: torch.maximum(x, torch.tensor(0))\n",
    "elif activation_name == 'tanh':\n",
    "    activation_RNN = torch.tanh\n",
    "elif activation_name == 'sigmoid':\n",
    "    activation_RNN = lambda x: 1/(1 + torch.exp(-x))\n",
    "elif activation_name == 'softplus':\n",
    "    activation_RNN = lambda x: torch.log(1 + torch.exp(5 * x))\n",
    "dt = rnn_config[\"dt\"]\n",
    "tau = rnn_config[\"tau\"]\n",
    "connectivity_density_rec = rnn_config[\"connectivity_density_rec\"]\n",
    "spectral_rad = rnn_config[\"sr\"]\n",
    "sigma_inp = rnn_config[\"sigma_inp\"]\n",
    "sigma_rec = rnn_config[\"sigma_rec\"]\n",
    "# seed = LCI_config_file[\"seed\"]\n",
    "seed = np.random.randint(1000000)\n",
    "print(f\"seed: {seed}\")\n",
    "if not seed is None:\n",
    "    rng.manual_seed(seed)\n",
    "input_size = np.array(rnn_data[\"W_inp\"]).shape[1]\n",
    "output_size = np.array(rnn_data[\"W_out\"]).shape[0]\n",
    "\n",
    "# Task:\n",
    "n_steps = task_data[\"n_steps\"]\n",
    "task = TaskCDDM(n_steps=n_steps, n_inputs=input_size, n_outputs=output_size, task_params=task_data)"
   ]
  },
  {
   "cell_type": "code",
   "execution_count": 73,
   "id": "16a44f53",
   "metadata": {},
   "outputs": [],
   "source": [
    "# defining RNN\n",
    "N = RNN_N\n",
    "W_rec = rnn_data[\"W_rec\"]\n",
    "W_inp = rnn_data[\"W_inp\"]\n",
    "W_out = rnn_data[\"W_out\"]\n",
    "dt = rnn_data[\"dt\"]\n",
    "tau = rnn_data[\"tau\"]\n",
    "activation_fun_RNN = lambda x: np.maximum(0, x)\n",
    "RNN = RNN_numpy(N=N, W_rec=W_rec, W_inp=W_inp, W_out=W_out, dt=dt, tau=tau, activation=activation_fun_RNN)\n",
    "RNN.y = np.zeros(N)"
   ]
  },
  {
   "cell_type": "code",
   "execution_count": 74,
   "id": "5d88c963",
   "metadata": {},
   "outputs": [],
   "source": [
    "input_batch, target_batch, conditions_batch = task.get_batch()\n",
    "sigma_rec = sigma_inp = 0\n",
    "y, predicted_output_rnn = RNN.run_multiple_trajectories(input_timeseries=input_batch,\n",
    "                                                        sigma_rec=sigma_rec, sigma_inp=sigma_inp)\n",
    "Y = y.reshape(RNN.N, -1).T\n",
    "pca = iPCA(n_components=10, batch_size=1000)\n",
    "pca.partial_fit(Y)\n",
    "U = pca.components_"
   ]
  },
  {
   "cell_type": "code",
   "execution_count": 75,
   "id": "d1ef2f32",
   "metadata": {},
   "outputs": [
    {
     "data": {
      "text/plain": [
       "(10, 100)"
      ]
     },
     "execution_count": 75,
     "metadata": {},
     "output_type": "execute_result"
    }
   ],
   "source": [
    "U.shape"
   ]
  },
  {
   "cell_type": "code",
   "execution_count": 76,
   "id": "2ee9ee11",
   "metadata": {},
   "outputs": [
    {
     "data": {
      "text/plain": [
       "array([0.427626  , 0.63245977, 0.80556567, 0.92296227, 0.95432405,\n",
       "       0.9703748 , 0.98058787, 0.9856451 , 0.98959716, 0.99180045])"
      ]
     },
     "execution_count": 76,
     "metadata": {},
     "output_type": "execute_result"
    }
   ],
   "source": [
    "np.cumsum(pca.explained_variance_ratio_)"
   ]
  },
  {
   "cell_type": "code",
   "execution_count": 77,
   "id": "99c5896f",
   "metadata": {},
   "outputs": [
    {
     "data": {
      "text/plain": [
       "(100, 750, 242)"
      ]
     },
     "execution_count": 77,
     "metadata": {},
     "output_type": "execute_result"
    }
   ],
   "source": [
    "y.shape"
   ]
  },
  {
   "cell_type": "code",
   "execution_count": 78,
   "id": "479bdfa3",
   "metadata": {},
   "outputs": [],
   "source": [
    "Uy = np.swapaxes(U @ np.swapaxes(y, 0, 1), 0, 1)"
   ]
  },
  {
   "cell_type": "code",
   "execution_count": 79,
   "id": "d722ba48",
   "metadata": {},
   "outputs": [
    {
     "data": {
      "text/plain": [
       "(6, 750, 242)"
      ]
     },
     "execution_count": 79,
     "metadata": {},
     "output_type": "execute_result"
    }
   ],
   "source": [
    "input_batch.shape"
   ]
  },
  {
   "cell_type": "code",
   "execution_count": 80,
   "id": "5a7ff1bd",
   "metadata": {},
   "outputs": [
    {
     "data": {
      "application/vnd.jupyter.widget-view+json": {
       "model_id": "0af8f4a0c6464acaa9b721496f3abef3",
       "version_major": 2,
       "version_minor": 0
      },
      "text/plain": [
       "  0%|          | 0/242 [00:00<?, ?it/s]"
      ]
     },
     "metadata": {},
     "output_type": "display_data"
    },
    {
     "name": "stderr",
     "output_type": "stream",
     "text": [
      "\n",
      "KeyboardInterrupt\n",
      "\n"
     ]
    }
   ],
   "source": [
    "from tqdm.auto import tqdm\n",
    "points = []\n",
    "for i in tqdm(range(y.shape[-1])):\n",
    "    for j in range(30):\n",
    "        t = np.maximum(0, j*25-1)\n",
    "        point_dict = {}\n",
    "        point_dict[\"state\"] = Uy[:, t, i]\n",
    "        point_dict[\"input\"] = input_batch[:, t, i]\n",
    "        point_dict[\"C\"] = U @ RNN.rhs_noisless(input=input_batch[:, t, i], y=y[:, t, i])\n",
    "        point_dict[\"J\"] = U @ RNN.rhs_jac(input=input_batch[:, t, i], y=y[:, t, i]) @ U.T\n",
    "        points.append(deepcopy(point_dict))"
   ]
  },
  {
   "cell_type": "code",
   "execution_count": null,
   "id": "af5ed36c",
   "metadata": {},
   "outputs": [],
   "source": [
    "pickle.dump(points, open('../sampled_points.pkl', \"wb+\"))"
   ]
  },
  {
   "cell_type": "code",
   "execution_count": null,
   "id": "817bb900",
   "metadata": {},
   "outputs": [],
   "source": []
  }
 ],
 "metadata": {
  "kernelspec": {
   "display_name": "Python 3 (ipykernel)",
   "language": "python",
   "name": "python3"
  },
  "language_info": {
   "codemirror_mode": {
    "name": "ipython",
    "version": 3
   },
   "file_extension": ".py",
   "mimetype": "text/x-python",
   "name": "python",
   "nbconvert_exporter": "python",
   "pygments_lexer": "ipython3",
   "version": "3.10.8"
  }
 },
 "nbformat": 4,
 "nbformat_minor": 5
}
